{
 "cells": [
  {
   "cell_type": "code",
   "execution_count": 2,
   "id": "8c4fcc42-d71b-4b73-8716-0a73e13d12a1",
   "metadata": {
    "tags": []
   },
   "outputs": [],
   "source": [
    "import pandas as pd"
   ]
  },
  {
   "cell_type": "code",
   "execution_count": 3,
   "id": "a6ce2723-41e3-4845-8c95-9e9f21b51c2f",
   "metadata": {
    "tags": []
   },
   "outputs": [],
   "source": [
    "df = pd.read_csv('happy.csv')"
   ]
  },
  {
   "cell_type": "code",
   "execution_count": 5,
   "id": "a8f7f98f-ad37-41bb-ad3f-ee567c3f27a9",
   "metadata": {
    "tags": []
   },
   "outputs": [
    {
     "data": {
      "text/plain": [
       "('country',\n",
       " 'happiness',\n",
       " 'gdp',\n",
       " 'social_support',\n",
       " 'life_expectancy',\n",
       " 'freedom_to_make_life_choices',\n",
       " 'generosity',\n",
       " 'corruption')"
      ]
     },
     "execution_count": 5,
     "metadata": {},
     "output_type": "execute_result"
    }
   ],
   "source": [
    "tuple(df.columns)"
   ]
  },
  {
   "cell_type": "code",
   "execution_count": 7,
   "id": "45364a04-e4c9-4209-a36e-3fed9a6321f0",
   "metadata": {
    "tags": []
   },
   "outputs": [
    {
     "data": {
      "text/plain": [
       "[570,\n",
       " 578,\n",
       " 636,\n",
       " 648,\n",
       " 662,\n",
       " 670,\n",
       " 686,\n",
       " 691,\n",
       " 758,\n",
       " 771,\n",
       " 777,\n",
       " 779,\n",
       " 785,\n",
       " 785,\n",
       " 788,\n",
       " 792,\n",
       " 839,\n",
       " 848,\n",
       " 848,\n",
       " 899,\n",
       " 930,\n",
       " 932,\n",
       " 933,\n",
       " 947,\n",
       " 950,\n",
       " 966,\n",
       " 968,\n",
       " 984,\n",
       " 1019,\n",
       " 1032,\n",
       " 1038,\n",
       " 1049,\n",
       " 1060,\n",
       " 1069,\n",
       " 1079,\n",
       " 1094,\n",
       " 1100,\n",
       " 1105,\n",
       " 1111,\n",
       " 1112,\n",
       " 1148,\n",
       " 1167,\n",
       " 1208,\n",
       " 1219,\n",
       " 1239,\n",
       " 1252,\n",
       " 1256,\n",
       " 1265,\n",
       " 1268,\n",
       " 1274,\n",
       " 1274,\n",
       " 1289,\n",
       " 1292,\n",
       " 1296,\n",
       " 1324,\n",
       " 1350,\n",
       " 1352,\n",
       " 1362,\n",
       " 1363,\n",
       " 1382,\n",
       " 1388,\n",
       " 1392,\n",
       " 1393,\n",
       " 1397,\n",
       " 1409,\n",
       " 1410,\n",
       " 1411,\n",
       " 1415,\n",
       " 1417,\n",
       " 1425,\n",
       " 1434,\n",
       " 1439,\n",
       " 1452,\n",
       " 1458,\n",
       " 1459,\n",
       " 1462,\n",
       " 1467,\n",
       " 1468,\n",
       " 1476,\n",
       " 1484,\n",
       " 1503,\n",
       " 1505,\n",
       " 1508,\n",
       " 1535,\n",
       " 1538,\n",
       " 1550,\n",
       " 1552,\n",
       " 1562,\n",
       " 1573,\n",
       " 1584,\n",
       " 1591,\n",
       " 1592,\n",
       " 1615,\n",
       " 1625,\n",
       " 1651,\n",
       " 1668,\n",
       " 1685,\n",
       " 1689,\n",
       " 1703,\n",
       " 1705,\n",
       " 1707,\n",
       " 1715,\n",
       " 1719,\n",
       " 1732,\n",
       " 1736,\n",
       " 1748,\n",
       " 1758,\n",
       " 1760,\n",
       " 1793,\n",
       " 1804,\n",
       " 1808,\n",
       " 1810,\n",
       " 1815,\n",
       " 1815,\n",
       " 1815,\n",
       " 1826,\n",
       " 1834,\n",
       " 1835,\n",
       " 1838,\n",
       " 1851,\n",
       " 1852,\n",
       " 1854,\n",
       " 1863,\n",
       " 1867,\n",
       " 1870,\n",
       " 1886,\n",
       " 1892,\n",
       " 1897,\n",
       " 1900,\n",
       " 1904,\n",
       " 1907,\n",
       " 1920,\n",
       " 1924,\n",
       " 1931,\n",
       " 1936,\n",
       " 1945,\n",
       " 1953,\n",
       " 1957,\n",
       " 1982,\n",
       " 1997,\n",
       " 1998,\n",
       " 2026,\n",
       " 2129,\n",
       " 2149,\n",
       " 2209]"
      ]
     },
     "execution_count": 7,
     "metadata": {},
     "output_type": "execute_result"
    }
   ],
   "source": [
    "list(df['gdp'])"
   ]
  },
  {
   "cell_type": "code",
   "execution_count": null,
   "id": "38c2c53f-bd4e-467e-a17f-b0d2b1dd3649",
   "metadata": {},
   "outputs": [],
   "source": []
  }
 ],
 "metadata": {
  "kernelspec": {
   "display_name": "Python 3 (ipykernel)",
   "language": "python",
   "name": "python3"
  },
  "language_info": {
   "codemirror_mode": {
    "name": "ipython",
    "version": 3
   },
   "file_extension": ".py",
   "mimetype": "text/x-python",
   "name": "python",
   "nbconvert_exporter": "python",
   "pygments_lexer": "ipython3",
   "version": "3.11.0"
  }
 },
 "nbformat": 4,
 "nbformat_minor": 5
}
