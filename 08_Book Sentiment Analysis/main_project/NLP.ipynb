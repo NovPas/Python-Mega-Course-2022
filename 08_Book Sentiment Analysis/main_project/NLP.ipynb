{
 "cells": [
  {
   "cell_type": "markdown",
   "id": "b40cb685-e1fc-4bb1-b963-6549a77e8019",
   "metadata": {
    "tags": []
   },
   "source": [
    "# Load file"
   ]
  },
  {
   "cell_type": "code",
   "execution_count": 19,
   "id": "835d46c0-06f9-41c6-aade-47a023380143",
   "metadata": {
    "tags": []
   },
   "outputs": [],
   "source": [
    "from collections import Counter\n",
    "import nltk\n",
    "import re\n",
    "from nltk.corpus import stopwords"
   ]
  },
  {
   "cell_type": "code",
   "execution_count": 6,
   "id": "5f508e66-dbcf-4c71-9fc3-e0a8159721a0",
   "metadata": {
    "tags": []
   },
   "outputs": [],
   "source": [
    "with open('miracle_in_the_andes.txt', 'r', encoding='utf-8') as file:\n",
    "    book = file.read()"
   ]
  },
  {
   "cell_type": "markdown",
   "id": "75d23d8c-8d67-4bb5-8a7f-5b9b9ca1b567",
   "metadata": {
    "tags": []
   },
   "source": [
    "### With string methods"
   ]
  },
  {
   "cell_type": "code",
   "execution_count": 12,
   "id": "d816031c-08e1-49ea-9b75-d744998c6a84",
   "metadata": {
    "tags": []
   },
   "outputs": [
    {
     "data": {
      "text/plain": [
       "10"
      ]
     },
     "execution_count": 12,
     "metadata": {},
     "output_type": "execute_result"
    }
   ],
   "source": [
    "book.count('Chapter ')"
   ]
  },
  {
   "cell_type": "markdown",
   "id": "c053297f-eabc-4951-9045-84c43f81b88a",
   "metadata": {
    "tags": []
   },
   "source": [
    "### With reqex"
   ]
  },
  {
   "cell_type": "code",
   "execution_count": 25,
   "id": "6e25dbab-b7cc-428c-8781-df09a1a017d1",
   "metadata": {
    "tags": []
   },
   "outputs": [],
   "source": [
    "import re\n",
    "from collections import Counter"
   ]
  },
  {
   "cell_type": "code",
   "execution_count": 17,
   "id": "c97486e0-1e89-4c60-9800-3e690735816a",
   "metadata": {
    "tags": []
   },
   "outputs": [
    {
     "data": {
      "text/plain": [
       "['Chapter 1',\n",
       " 'Chapter 2',\n",
       " 'Chapter 3',\n",
       " 'Chapter 4',\n",
       " 'Chapter 5',\n",
       " 'Chapter 6',\n",
       " 'Chapter 7',\n",
       " 'Chapter 8',\n",
       " 'Chapter 9',\n",
       " 'Chapter 10']"
      ]
     },
     "execution_count": 17,
     "metadata": {},
     "output_type": "execute_result"
    }
   ],
   "source": [
    "chapter_regex = r'Chapter \\d+'\n",
    "chapter_headings = re.findall(chapter_regex, book)\n",
    "chapter_headings"
   ]
  },
  {
   "cell_type": "markdown",
   "id": "73856b33-3f43-4b70-8c8d-2867554a25a2",
   "metadata": {
    "tags": []
   },
   "source": [
    "# Top words without stop words"
   ]
  },
  {
   "cell_type": "code",
   "execution_count": 13,
   "id": "11c4c79d-f8fa-4a20-b3cc-c15a74d81282",
   "metadata": {},
   "outputs": [
    {
     "name": "stdout",
     "output_type": "stream",
     "text": [
      "the 5346\n",
      "and 2795\n",
      "i 2729\n",
      "to 2400\n",
      "of 2060\n",
      "a 1560\n",
      "was 1430\n",
      "in 1419\n",
      "we 1226\n",
      "my 1169\n"
     ]
    }
   ],
   "source": [
    "# Define a regular expression pattern to match words\n",
    "pattern = r'\\b\\w+\\b'\n",
    "\n",
    "# Use the pattern to find all the words in the contents\n",
    "words = re.findall(pattern, book.lower(), flags=re.IGNORECASE)\n",
    "\n",
    "# Count the frequency of each word\n",
    "word_counts = Counter(words)\n",
    "\n",
    "# Get the 10 most common words\n",
    "most_common = word_counts.most_common(10)\n",
    "\n",
    "# Print the list of most common words and their frequencies\n",
    "for word, count in most_common:\n",
    "    print(word, count)"
   ]
  },
  {
   "cell_type": "code",
   "execution_count": 39,
   "id": "1d51f13e-4bad-48d5-9c7a-700ffad46482",
   "metadata": {
    "tags": []
   },
   "outputs": [
    {
     "name": "stdout",
     "output_type": "stream",
     "text": [
      "showing info https://raw.githubusercontent.com/nltk/nltk_data/gh-pages/index.xml\n"
     ]
    },
    {
     "data": {
      "text/plain": [
       "True"
      ]
     },
     "execution_count": 39,
     "metadata": {},
     "output_type": "execute_result"
    }
   ],
   "source": [
    "nltk.download()"
   ]
  },
  {
   "cell_type": "code",
   "execution_count": 24,
   "id": "1e8ed86a-b3f1-421c-a825-cd7e54912d45",
   "metadata": {
    "tags": []
   },
   "outputs": [],
   "source": [
    "english_stop_words = stopwords.words('english')"
   ]
  },
  {
   "cell_type": "code",
   "execution_count": 31,
   "id": "49fc1fcf-3e2b-4e83-bf0f-f04ee4c51593",
   "metadata": {},
   "outputs": [],
   "source": [
    "word_counts_without_stopwords = {x: count for x, count in word_counts.items() if x not in english_stop_words}"
   ]
  },
  {
   "cell_type": "code",
   "execution_count": 33,
   "id": "21df49c4-2094-426a-85ed-06bcacb8365a",
   "metadata": {
    "tags": []
   },
   "outputs": [],
   "source": [
    "word_counts_without_stopwords = Counter(word_counts_without_stopwords)"
   ]
  },
  {
   "cell_type": "code",
   "execution_count": 35,
   "id": "7727fe94-9f40-4b67-a1e1-3d3fafc22588",
   "metadata": {
    "tags": []
   },
   "outputs": [
    {
     "data": {
      "text/plain": [
       "[('would', 575),\n",
       " ('us', 519),\n",
       " ('said', 292),\n",
       " ('roberto', 284),\n",
       " ('could', 252),\n",
       " ('one', 249),\n",
       " ('snow', 227),\n",
       " ('mountain', 183),\n",
       " ('time', 182),\n",
       " ('like', 165)]"
      ]
     },
     "execution_count": 35,
     "metadata": {},
     "output_type": "execute_result"
    }
   ],
   "source": [
    "most_common = word_counts_without_stopwords.most_common(10)\n",
    "most_common"
   ]
  },
  {
   "cell_type": "markdown",
   "id": "079ca411-ccdc-48d4-b90d-cd24428587e5",
   "metadata": {},
   "source": [
    "# Sentiment analysis: What is the most positive and most negative chapters?"
   ]
  },
  {
   "cell_type": "code",
   "execution_count": 36,
   "id": "c3f9c392-f1d9-40a1-a872-47f5507460b2",
   "metadata": {
    "tags": []
   },
   "outputs": [],
   "source": [
    "from nltk.sentiment import SentimentIntensityAnalyzer"
   ]
  },
  {
   "cell_type": "code",
   "execution_count": 40,
   "id": "2653c5cc-ddcf-4296-9b3e-2eda12ceb124",
   "metadata": {
    "tags": []
   },
   "outputs": [],
   "source": [
    "analyzer = SentimentIntensityAnalyzer()"
   ]
  },
  {
   "cell_type": "code",
   "execution_count": 46,
   "id": "557e9a65-2342-42d8-ad7e-a37334e028e1",
   "metadata": {
    "tags": []
   },
   "outputs": [],
   "source": [
    "pattern = re.compile('Chapter [0-9]+')\n",
    "matches = re.split(pattern, book)\n",
    "matches = matches[1:]"
   ]
  },
  {
   "cell_type": "code",
   "execution_count": 47,
   "id": "15c76c9d-3d97-40bc-b0b0-17eb1a0f428d",
   "metadata": {
    "tags": []
   },
   "outputs": [
    {
     "name": "stdout",
     "output_type": "stream",
     "text": [
      "1 {'neg': 0.061, 'neu': 0.779, 'pos': 0.16, 'compound': 1.0}\n",
      "2 {'neg': 0.12, 'neu': 0.726, 'pos': 0.154, 'compound': 0.9991}\n",
      "3 {'neg': 0.145, 'neu': 0.751, 'pos': 0.105, 'compound': -0.9999}\n",
      "4 {'neg': 0.141, 'neu': 0.721, 'pos': 0.138, 'compound': -0.9963}\n",
      "5 {'neg': 0.118, 'neu': 0.742, 'pos': 0.141, 'compound': 0.9997}\n",
      "6 {'neg': 0.124, 'neu': 0.761, 'pos': 0.115, 'compound': -0.9979}\n",
      "7 {'neg': 0.136, 'neu': 0.761, 'pos': 0.103, 'compound': -0.9999}\n",
      "8 {'neg': 0.12, 'neu': 0.786, 'pos': 0.094, 'compound': -0.9998}\n",
      "9 {'neg': 0.097, 'neu': 0.824, 'pos': 0.079, 'compound': -0.9996}\n",
      "10 {'neg': 0.086, 'neu': 0.733, 'pos': 0.181, 'compound': 1.0}\n"
     ]
    }
   ],
   "source": [
    "for nr, chapter in enumerate(matches):\n",
    "    scores = analyzer.polarity_scores(chapter)\n",
    "    print(nr+1, scores)"
   ]
  },
  {
   "cell_type": "code",
   "execution_count": null,
   "id": "a5d09bfe-bc27-42b4-b8bd-3c101b68c812",
   "metadata": {},
   "outputs": [],
   "source": []
  }
 ],
 "metadata": {
  "kernelspec": {
   "display_name": "Python 3 (ipykernel)",
   "language": "python",
   "name": "python3"
  },
  "language_info": {
   "codemirror_mode": {
    "name": "ipython",
    "version": 3
   },
   "file_extension": ".py",
   "mimetype": "text/x-python",
   "name": "python",
   "nbconvert_exporter": "python",
   "pygments_lexer": "ipython3",
   "version": "3.11.0"
  },
  "toc-autonumbering": false,
  "toc-showcode": false,
  "toc-showmarkdowntxt": false
 },
 "nbformat": 4,
 "nbformat_minor": 5
}
