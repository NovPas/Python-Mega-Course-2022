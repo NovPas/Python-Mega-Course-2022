{
 "cells": [
  {
   "cell_type": "markdown",
   "id": "b40cb685-e1fc-4bb1-b963-6549a77e8019",
   "metadata": {
    "tags": []
   },
   "source": [
    "# Load file"
   ]
  },
  {
   "cell_type": "code",
   "execution_count": 7,
   "id": "5f508e66-dbcf-4c71-9fc3-e0a8159721a0",
   "metadata": {
    "tags": []
   },
   "outputs": [],
   "source": [
    "with open('miracle_in_the_andes.txt', 'r', encoding='utf-8') as file:\n",
    "    book = file.read()"
   ]
  },
  {
   "cell_type": "markdown",
   "id": "9bc6848d-6aa2-4707-bc83-7171d55e4862",
   "metadata": {
    "tags": []
   },
   "source": [
    "# How many chapters?"
   ]
  },
  {
   "cell_type": "markdown",
   "id": "75d23d8c-8d67-4bb5-8a7f-5b9b9ca1b567",
   "metadata": {
    "tags": []
   },
   "source": [
    "### With string methods"
   ]
  },
  {
   "cell_type": "code",
   "execution_count": 12,
   "id": "d816031c-08e1-49ea-9b75-d744998c6a84",
   "metadata": {
    "tags": []
   },
   "outputs": [
    {
     "data": {
      "text/plain": [
       "10"
      ]
     },
     "execution_count": 12,
     "metadata": {},
     "output_type": "execute_result"
    }
   ],
   "source": [
    "book.count('Chapter ')"
   ]
  },
  {
   "cell_type": "markdown",
   "id": "c053297f-eabc-4951-9045-84c43f81b88a",
   "metadata": {
    "tags": []
   },
   "source": [
    "### With reqex"
   ]
  },
  {
   "cell_type": "code",
   "execution_count": 25,
   "id": "6e25dbab-b7cc-428c-8781-df09a1a017d1",
   "metadata": {
    "tags": []
   },
   "outputs": [],
   "source": [
    "import re\n",
    "from collections import Counter"
   ]
  },
  {
   "cell_type": "code",
   "execution_count": 17,
   "id": "c97486e0-1e89-4c60-9800-3e690735816a",
   "metadata": {
    "tags": []
   },
   "outputs": [
    {
     "data": {
      "text/plain": [
       "['Chapter 1',\n",
       " 'Chapter 2',\n",
       " 'Chapter 3',\n",
       " 'Chapter 4',\n",
       " 'Chapter 5',\n",
       " 'Chapter 6',\n",
       " 'Chapter 7',\n",
       " 'Chapter 8',\n",
       " 'Chapter 9',\n",
       " 'Chapter 10']"
      ]
     },
     "execution_count": 17,
     "metadata": {},
     "output_type": "execute_result"
    }
   ],
   "source": [
    "chapter_regex = r'Chapter \\d+'\n",
    "chapter_headings = re.findall(chapter_regex, book)\n",
    "chapter_headings"
   ]
  },
  {
   "cell_type": "markdown",
   "id": "25b09621-a1da-4cf0-a888-fbe659d2c15f",
   "metadata": {
    "tags": []
   },
   "source": [
    "# Wich are the centeces where word 'love' are used"
   ]
  },
  {
   "cell_type": "code",
   "execution_count": 24,
   "id": "04111f77-4a5e-4b6a-9f12-3fe7cc6ff007",
   "metadata": {
    "tags": []
   },
   "outputs": [
    {
     "name": "stdout",
     "output_type": "stream",
     "text": [
      "70\n"
     ]
    }
   ],
   "source": [
    "# Split the contents into sentences using a regular expression\n",
    "sentences = re.split(r'(?<!\\w\\.\\w.)(?<![A-Z][a-z]\\.)(?<=\\.|\\?)\\s', book)\n",
    "\n",
    "# Create a list of sentences containing the word 'love'\n",
    "love_sentences = [s for s in sentences if re.search(r'\\blove\\b', s)]\n",
    "\n",
    "# Print the list of love sentences\n",
    "print(len(love_sentences))"
   ]
  },
  {
   "cell_type": "code",
   "execution_count": 23,
   "id": "f1c1a7e8-9db0-4768-9cb7-ac0393c05609",
   "metadata": {
    "tags": []
   },
   "outputs": [
    {
     "name": "stdout",
     "output_type": "stream",
     "text": [
      "70\n"
     ]
    }
   ],
   "source": [
    "# Define a regular expression pattern to match sentences containing the word 'love'\n",
    "pattern = r'(?<!\\w\\.\\w.)(?<![A-Z][a-z]\\.)[\\w\\s\\S]*?\\blove\\b[\\w\\s\\S]*?(?<=\\.|\\?)\\s'\n",
    "\n",
    "# Use the pattern to find all the love sentences in the contents\n",
    "love_sentences = re.findall(pattern, book)\n",
    "\n",
    "# Print the list of love sentences\n",
    "print(len(love_sentences))"
   ]
  },
  {
   "cell_type": "markdown",
   "id": "c040f1a3-465b-4303-95e8-057894d332e7",
   "metadata": {
    "tags": []
   },
   "source": [
    "# What are the most used words"
   ]
  },
  {
   "cell_type": "code",
   "execution_count": 27,
   "id": "49d06fbd-c279-464a-ba52-a206c9c86843",
   "metadata": {
    "tags": []
   },
   "outputs": [
    {
     "name": "stdout",
     "output_type": "stream",
     "text": [
      "the 5013\n",
      "and 2740\n",
      "I 2729\n",
      "to 2368\n",
      "of 2053\n",
      "a 1523\n",
      "was 1418\n",
      "in 1267\n",
      "my 1074\n",
      "that 972\n"
     ]
    }
   ],
   "source": [
    "# Define a regular expression pattern to match words\n",
    "pattern = r'\\b\\w+\\b'\n",
    "\n",
    "# Use the pattern to find all the words in the contents\n",
    "words = re.findall(pattern, book)\n",
    "\n",
    "# Count the frequency of each word\n",
    "word_counts = Counter(words)\n",
    "\n",
    "# Get the 10 most common words\n",
    "most_common = word_counts.most_common(10)\n",
    "\n",
    "# Print the list of most common words and their frequencies\n",
    "for word, count in most_common:\n",
    "    print(word, count)"
   ]
  },
  {
   "cell_type": "markdown",
   "id": "826ecee9-ba53-41ef-bab2-80120efe5b18",
   "metadata": {
    "tags": []
   },
   "source": [
    "# Home work"
   ]
  },
  {
   "cell_type": "markdown",
   "id": "7c72c55d-9047-4adc-bc05-7e8ef1bba337",
   "metadata": {
    "tags": []
   },
   "source": [
    "### Extract the paragraphas where 'love' was used"
   ]
  },
  {
   "cell_type": "code",
   "execution_count": 39,
   "id": "4ad2e93c-97e7-4ff0-ba69-f31dbccba47f",
   "metadata": {
    "tags": []
   },
   "outputs": [
    {
     "data": {
      "text/plain": [
       "60"
      ]
     },
     "execution_count": 39,
     "metadata": {},
     "output_type": "execute_result"
    }
   ],
   "source": [
    "# Define a regular expression pattern to match paragraphs with the word \"love\"\n",
    "pattern = r'^.*?love.*?(?:\\n\\n|\\Z)'\n",
    "\n",
    "# Use the pattern to find all the matching paragraphs in the contents\n",
    "matches = re.findall(pattern, book, flags=re.MULTILINE)\n",
    "\n",
    "# # Print the list of matching paragraphs\n",
    "# for match in matches:\n",
    "#     print(match.strip())\n",
    "len(matches)"
   ]
  },
  {
   "cell_type": "markdown",
   "id": "1fb089a7-8be9-4638-9832-cf4849c32ed4",
   "metadata": {},
   "source": [
    "### Extract the chapter titles"
   ]
  },
  {
   "cell_type": "code",
   "execution_count": 40,
   "id": "941aafe8-e008-4557-a57b-95d66b4c1a53",
   "metadata": {
    "tags": []
   },
   "outputs": [
    {
     "data": {
      "text/plain": [
       "['Before',\n",
       " 'Everything Precious',\n",
       " 'A Promise',\n",
       " 'Breathe Once More',\n",
       " 'Abandoned',\n",
       " 'Tomb',\n",
       " 'East',\n",
       " 'The Opposite of Death',\n",
       " 'I See a Man',\n",
       " 'After']"
      ]
     },
     "execution_count": 40,
     "metadata": {},
     "output_type": "execute_result"
    }
   ],
   "source": [
    "chapter_regex = r'Chapter \\d+\\n\\n(.*)\\n\\n'\n",
    "chapter_headings = re.findall(chapter_regex, book)\n",
    "chapter_headings"
   ]
  },
  {
   "cell_type": "code",
   "execution_count": 41,
   "id": "7ebf3154-394c-45d6-85e9-8dcc67bce93c",
   "metadata": {
    "tags": []
   },
   "outputs": [],
   "source": [
    "def count_occurrences(text, word):\n",
    "    # Define a regular expression pattern to match the word\n",
    "    pattern = r'\\b{}\\b'.format(word)\n",
    "    \n",
    "    # Use the pattern to find all the matching occurrences in the text\n",
    "    matches = re.findall(pattern, text, flags=re.IGNORECASE)\n",
    "    \n",
    "    # Return the number of matching occurrences\n",
    "    return len(matches)"
   ]
  },
  {
   "cell_type": "code",
   "execution_count": 45,
   "id": "f913cc09-d661-41d3-8ab8-5822703f8570",
   "metadata": {
    "tags": []
   },
   "outputs": [
    {
     "name": "stdout",
     "output_type": "stream",
     "text": [
      "83\n"
     ]
    }
   ],
   "source": [
    "print(count_occurrences(book, 'love'))"
   ]
  },
  {
   "cell_type": "code",
   "execution_count": null,
   "id": "11c4c79d-f8fa-4a20-b3cc-c15a74d81282",
   "metadata": {},
   "outputs": [],
   "source": []
  },
  {
   "cell_type": "code",
   "execution_count": null,
   "id": "49fc1fcf-3e2b-4e83-bf0f-f04ee4c51593",
   "metadata": {},
   "outputs": [],
   "source": []
  },
  {
   "cell_type": "code",
   "execution_count": null,
   "id": "21df49c4-2094-426a-85ed-06bcacb8365a",
   "metadata": {},
   "outputs": [],
   "source": []
  },
  {
   "cell_type": "code",
   "execution_count": null,
   "id": "7727fe94-9f40-4b67-a1e1-3d3fafc22588",
   "metadata": {},
   "outputs": [],
   "source": []
  },
  {
   "cell_type": "code",
   "execution_count": null,
   "id": "e85d5b0a-b0e9-4384-a6fa-b6557346311b",
   "metadata": {},
   "outputs": [],
   "source": []
  }
 ],
 "metadata": {
  "kernelspec": {
   "display_name": "Python 3 (ipykernel)",
   "language": "python",
   "name": "python3"
  },
  "language_info": {
   "codemirror_mode": {
    "name": "ipython",
    "version": 3
   },
   "file_extension": ".py",
   "mimetype": "text/x-python",
   "name": "python",
   "nbconvert_exporter": "python",
   "pygments_lexer": "ipython3",
   "version": "3.11.0"
  },
  "toc-autonumbering": false,
  "toc-showcode": false,
  "toc-showmarkdowntxt": false
 },
 "nbformat": 4,
 "nbformat_minor": 5
}
