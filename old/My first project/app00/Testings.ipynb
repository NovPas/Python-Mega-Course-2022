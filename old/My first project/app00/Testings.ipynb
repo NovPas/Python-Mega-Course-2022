{
 "cells": [
  {
   "cell_type": "code",
   "execution_count": 4,
   "id": "0d21f3ef",
   "metadata": {},
   "outputs": [],
   "source": [
    "import pandas"
   ]
  },
  {
   "cell_type": "code",
   "execution_count": 6,
   "id": "34bfa43a",
   "metadata": {},
   "outputs": [],
   "source": [
    "from geopy.geocoders import ArcGIS"
   ]
  },
  {
   "cell_type": "code",
   "execution_count": 8,
   "id": "f5f959cc",
   "metadata": {},
   "outputs": [],
   "source": [
    "nom=ArcGIS()"
   ]
  },
  {
   "cell_type": "code",
   "execution_count": 18,
   "id": "714ae929",
   "metadata": {},
   "outputs": [
    {
     "data": {
      "text/plain": [
       "Location(1-я Куликовская улица, Родники, Родниковский район, Ивановская область, 155251, (57.101859138571506, 41.76162767800406, 0.0))"
      ]
     },
     "execution_count": 18,
     "metadata": {},
     "output_type": "execute_result"
    }
   ],
   "source": [
    "nom.geocode('родники куликовская')"
   ]
  },
  {
   "cell_type": "code",
   "execution_count": 19,
   "id": "90312eb8",
   "metadata": {},
   "outputs": [],
   "source": [
    "import numpy"
   ]
  },
  {
   "cell_type": "code",
   "execution_count": 21,
   "id": "56ab07d3",
   "metadata": {},
   "outputs": [
    {
     "name": "stdout",
     "output_type": "stream",
     "text": [
      "[ 0  1  2  3  4  5  6  7  8  9 10 11 12 13 14 15 16 17 18 19 20 21 22 23\n",
      " 24 25 26]\n"
     ]
    }
   ],
   "source": [
    "n=numpy.arange(27)\n",
    "print(n)"
   ]
  },
  {
   "cell_type": "code",
   "execution_count": 22,
   "id": "4180568e",
   "metadata": {},
   "outputs": [],
   "source": [
    "import cv2"
   ]
  },
  {
   "cell_type": "code",
   "execution_count": 26,
   "id": "25d28288",
   "metadata": {},
   "outputs": [],
   "source": [
    "im_g=cv2.imread('smallgray.png',1)"
   ]
  },
  {
   "cell_type": "code",
   "execution_count": 27,
   "id": "bdeb636f",
   "metadata": {},
   "outputs": [
    {
     "data": {
      "text/plain": [
       "array([[[187, 187, 187],\n",
       "        [158, 158, 158],\n",
       "        [104, 104, 104],\n",
       "        [121, 121, 121],\n",
       "        [143, 143, 143]],\n",
       "\n",
       "       [[198, 198, 198],\n",
       "        [125, 125, 125],\n",
       "        [255, 255, 255],\n",
       "        [255, 255, 255],\n",
       "        [147, 147, 147]],\n",
       "\n",
       "       [[209, 209, 209],\n",
       "        [134, 134, 134],\n",
       "        [255, 255, 255],\n",
       "        [ 97,  97,  97],\n",
       "        [182, 182, 182]]], dtype=uint8)"
      ]
     },
     "execution_count": 27,
     "metadata": {},
     "output_type": "execute_result"
    }
   ],
   "source": [
    "im_g"
   ]
  },
  {
   "cell_type": "code",
   "execution_count": 28,
   "id": "1a2e7630",
   "metadata": {},
   "outputs": [
    {
     "data": {
      "text/plain": [
       "True"
      ]
     },
     "execution_count": 28,
     "metadata": {},
     "output_type": "execute_result"
    }
   ],
   "source": [
    "cv2.imwrite('newsmallgray.png',im_g)"
   ]
  },
  {
   "cell_type": "code",
   "execution_count": null,
   "id": "3fc9bc22",
   "metadata": {},
   "outputs": [],
   "source": []
  }
 ],
 "metadata": {
  "kernelspec": {
   "display_name": "Python 3 (ipykernel)",
   "language": "python",
   "name": "python3"
  },
  "language_info": {
   "codemirror_mode": {
    "name": "ipython",
    "version": 3
   },
   "file_extension": ".py",
   "mimetype": "text/x-python",
   "name": "python",
   "nbconvert_exporter": "python",
   "pygments_lexer": "ipython3",
   "version": "3.9.7"
  }
 },
 "nbformat": 4,
 "nbformat_minor": 5
}
